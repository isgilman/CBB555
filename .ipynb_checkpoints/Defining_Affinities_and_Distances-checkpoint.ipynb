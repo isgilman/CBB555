{
 "cells": [
  {
   "cell_type": "markdown",
   "metadata": {},
   "source": [
    "## 7 September 2017\n",
    "### Inner products, affinities, and distances"
   ]
  },
  {
   "cell_type": "markdown",
   "metadata": {},
   "source": [
    "Singular Value Decomposition is a generalization to eigen decomposition to nonsquare matrices\n",
    "\n",
    "$\\textbf{X} = \\textbf{U S W}^\\textbf{T}$\n",
    "\n",
    "The SVD is used for most PCA. For PCA we use the covariance matrix $\\Sigma = X^TX$, which is a Gram matrix. These have the properties:\n",
    "    \n",
    "* They arise as a result of inner products\n",
    "* $G_{ij} = <x_i, y_j>$\n",
    "* more...\n",
    "    \n",
    " An affine transformation is any transformation that preserves collinearity (i.e., all points lying on a line initially still lie on a line after transformation) and ratios of distances (e.g., the midpoint of a line segment remains the midpoint after transformation). In this sense, affine indicates a special class of projective transformations that do not move any objects from the affine space $\\mathbb{R}^3$ to the plane at infinity or conversely. An affine transformation is also called an affinity."
   ]
  },
  {
   "cell_type": "markdown",
   "metadata": {},
   "source": [
    "Mahalanobis distance is a variance corrected distance\n",
    "\n",
    "$\\sqrt{(A-B)\\Sigma^{-1}(A-B)^T}$\n",
    "\n",
    "Imagine turning an elipse into a circle\n",
    "\n",
    "Binary distances\n",
    "* $A=[a_i,...a_n]$, $B = [b_i,...b_n]$\n",
    "* Hamming distance is $\\Sigma a_i \\neq b_i$\n",
    "* Jaccard distance \n",
    "\n",
    "$$1-\\frac{\\Sigma(a_i \\land b_i)}{\\Sigma(a_i \\lor b_i)}$$"
   ]
  },
  {
   "cell_type": "markdown",
   "metadata": {},
   "source": [
    "Classic MDS\n",
    "\n",
    "$$\\begin{equation*}\n",
    "\\textbf{I}_2 - a \\textbf{1}_2 =\n",
    "\\begin{matrix}\n",
    "  a & -a \\\\\n",
    "  -a & a\n",
    " \\end{matrix}\n",
    "\\end{equation*}$$"
   ]
  },
  {
   "cell_type": "markdown",
   "metadata": {},
   "source": [
    "Similary is function $s(x,y)$ such that\n",
    "\n",
    "* $s(x,x) = 1$\n",
    "* $s(x,y = $"
   ]
  },
  {
   "cell_type": "markdown",
   "metadata": {},
   "source": [
    "A kernel function is anthing that can be a PDF"
   ]
  },
  {
   "cell_type": "markdown",
   "metadata": {},
   "source": [
    "#### Why define affinities?\n",
    "\n",
    "Can define affinities on data without features to get similarities or differences\n",
    "* This include natrually occuring network data\n",
    "  * Neural connectivity\n",
    "  * Protein interactions maps\n",
    "  * Hi-C data\n",
    "   * see iterative correction of Hi-C data deveals hallmakrs of chromosome organization (Imakaev et al)\n",
    "   * Connectivity maps are affinity matrices cut in half and turned on their sides\n",
    "\n",
    "We can control the scale of similarities (e.g., by adjusting the standard deviation using a Guassian kernel)\n",
    " * Can control globally or locally\n",
    "  * Each point can have its own $\\sigma$ (i.e., adaptive bandwith)\n",
    "\n",
    "We can choose the type of distance"
   ]
  },
  {
   "cell_type": "markdown",
   "metadata": {},
   "source": [
    "Volume of graph = sum of all matrix entries"
   ]
  },
  {
   "cell_type": "code",
   "execution_count": null,
   "metadata": {
    "collapsed": true
   },
   "outputs": [],
   "source": []
  }
 ],
 "metadata": {
  "kernelspec": {
   "display_name": "Python 2",
   "language": "python",
   "name": "python2"
  },
  "language_info": {
   "codemirror_mode": {
    "name": "ipython",
    "version": 2
   },
   "file_extension": ".py",
   "mimetype": "text/x-python",
   "name": "python",
   "nbconvert_exporter": "python",
   "pygments_lexer": "ipython2",
   "version": "2.7.13"
  }
 },
 "nbformat": 4,
 "nbformat_minor": 2
}
