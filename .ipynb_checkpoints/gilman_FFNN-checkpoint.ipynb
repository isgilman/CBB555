{
 "cells": [
  {
   "cell_type": "markdown",
   "metadata": {},
   "source": [
    "# Tensorflow/Keras bootcamp"
   ]
  },
  {
   "cell_type": "code",
   "execution_count": 5,
   "metadata": {
    "collapsed": true
   },
   "outputs": [],
   "source": [
    "%matplotlib inline\n",
    "\n",
    "import tensorflow as tf\n",
    "import matplotlib.pyplot as plt\n",
    "plt.style.use('seaborn-white')\n",
    "from tensorflow.examples.tutorials.mnist import input_data\n",
    "import numpy as np"
   ]
  },
  {
   "cell_type": "code",
   "execution_count": 2,
   "metadata": {},
   "outputs": [
    {
     "name": "stdout",
     "output_type": "stream",
     "text": [
      "Extracting MNIST_data/train-images-idx3-ubyte.gz\n",
      "Extracting MNIST_data/train-labels-idx1-ubyte.gz\n",
      "Extracting MNIST_data/t10k-images-idx3-ubyte.gz\n",
      "Extracting MNIST_data/t10k-labels-idx1-ubyte.gz\n"
     ]
    }
   ],
   "source": [
    "mnist = input_data.read_data_sets(\"MNIST_data/\", one_hot=True)"
   ]
  },
  {
   "cell_type": "markdown",
   "metadata": {},
   "source": [
    "### Feed-forward Neural Network"
   ]
  },
  {
   "cell_type": "code",
   "execution_count": 3,
   "metadata": {
    "collapsed": true
   },
   "outputs": [],
   "source": [
    "tf.reset_default_graph()\n",
    "eta = 0.5\n",
    "\n",
    "x = tf.placeholder(shape=[None,784], dtype=tf.float32)\n",
    "y_ = tf.placeholder(shape=[None,10], dtype=tf.float32)\n",
    "\n",
    "# 784 is the input and 128 is output to the hidden layer\n",
    "W1 = tf.get_variable(name='W1', shape=[784,128], initializer=tf.zeros_initializer(), dtype=tf.float32)\n",
    "b1 = tf.get_variable(name='b1', shape=[128], initializer=tf.zeros_initializer(), dtype=tf.float32)\n",
    "# 128 is the input from the first layer and 10 is the output dimension\n",
    "W2 = tf.get_variable(name='W2', shape=[128,10], initializer=tf.zeros_initializer(), dtype=tf.float32)\n",
    "b2 = tf.get_variable(name='b2', shape=[10], initializer=tf.zeros_initializer(), dtype=tf.float32)\n",
    "\n",
    "h1 = tf.nn.relu(tf.matmul(x, W1) + b1)\n",
    "y = tf.nn.softmax(tf.matmul(h1, W2) + b2)\n",
    "\n",
    "loss = tf.reduce_mean(tf.nn.softmax_cross_entropy_with_logits(logits=y, labels=y_, name='loss'), name='avg_loss')\n",
    "\n",
    "optimizer = tf.train.GradientDescentOptimizer(learning_rate=eta)\n",
    "train_step = optimizer.minimize(loss=loss)"
   ]
  },
  {
   "cell_type": "code",
   "execution_count": 6,
   "metadata": {},
   "outputs": [
    {
     "name": "stdout",
     "output_type": "stream",
     "text": [
      "0.1135\n"
     ]
    }
   ],
   "source": [
    "with tf.Session() as sess:\n",
    "    sess.run(tf.global_variables_initializer())\n",
    "    accuracies = []\n",
    "    batch_size = 100\n",
    "\n",
    "    for step in range(1000):\n",
    "        batch_x, batch_y = mnist.train.next_batch(batch_size=batch_size)\n",
    "        train_step.run(feed_dict={x:batch_x, y_:batch_y})\n",
    "\n",
    "    predictions = y.eval(feed_dict={x:mnist.test.images})\n",
    "    predictions_ind = np.argmax(predictions, axis=1)\n",
    "    accuracy = np.sum(np.equal(predictions_ind, np.argmax(mnist.test.labels, axis=1)))/float(mnist.test.images.shape[0])\n",
    "    accuracies.append(accuracy)\n",
    "    print accuracy"
   ]
  }
 ],
 "metadata": {
  "kernelspec": {
   "display_name": "Python 2",
   "language": "python",
   "name": "python2"
  },
  "language_info": {
   "codemirror_mode": {
    "name": "ipython",
    "version": 2
   },
   "file_extension": ".py",
   "mimetype": "text/x-python",
   "name": "python",
   "nbconvert_exporter": "python",
   "pygments_lexer": "ipython2",
   "version": "2.7.13"
  }
 },
 "nbformat": 4,
 "nbformat_minor": 2
}
