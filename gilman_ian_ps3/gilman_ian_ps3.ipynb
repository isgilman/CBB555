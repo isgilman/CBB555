{
 "cells": [
  {
   "cell_type": "markdown",
   "metadata": {},
   "source": [
    "### Ian Gilman\n",
    "### CBB 555 Problem Set 3: Feed-Forward Neural Networks and Autoencoders\n",
    "### 28 November 2017\n",
    "\n",
    "Neural networks provide a flexible framework for supervised and unsupervised learning and are increasingly employed in biology. Their flexibility stems from the user's ability to manipulate layer parameters such number of nodes and activation functions, as well as global parameters such as connectivity between layers, loss functions, and learning rate. Among the most common uses for neural networks in bioinformatics are DNA sequence alignment (Andreatta and Nielsen 2015), protein binding site prediction and biochemistry (Shen and Bax 2013), and data visualization (presented here). Here we demonstrate the utility of neural networks in classification and data visualization with logisitic regression, feed forward neural networks, and autoencoders on the MNIST dataset and an empirical dataset from mass cytometry data from bone marrow blood collected by Bendall et al. (2011). "
   ]
  },
  {
   "cell_type": "code",
   "execution_count": 1,
   "metadata": {
    "collapsed": true,
    "scrolled": true
   },
   "outputs": [],
   "source": [
    "%matplotlib inline\n",
    "import tensorflow as tf\n",
    "import numpy as np\n",
    "import matplotlib.pyplot as plt\n",
    "import matplotlib.cm as mplcm\n",
    "import matplotlib.colors as colors\n",
    "plt.style.use('seaborn-white')\n",
    "from tensorflow.examples.tutorials.mnist import input_data\n",
    "from tqdm import tqdm_notebook\n",
    "import codecs, json, sys\n",
    "from sklearn.manifold import TSNE\n",
    "from sklearn.metrics import pairwise_distances"
   ]
  },
  {
   "cell_type": "code",
   "execution_count": 2,
   "metadata": {
    "collapsed": true
   },
   "outputs": [],
   "source": [
    "def load_json_files(file_path):\n",
    "    '''\n",
    "    Loads data from a json file\n",
    "    Inputs:\n",
    "        file_path   the path of the .json file that you want to read in\n",
    "    Outputs:\n",
    "        my_array    this is a numpy array if data is numeric, \n",
    "                                it's a list if it's a string'''\n",
    "    #  load data from json file\n",
    "    obj_text = codecs.open(file_path, 'r', encoding='utf-8').read()\n",
    "    b_new = json.loads(obj_text)\n",
    "\n",
    "    # FIXED BUG: simple (but not elegant) hack to make this work \n",
    "    # for both python versions\n",
    "    # Python 2 ==> reads the json as unicode so we have to change it\n",
    "    # Python 3 ==> is smarter and reads the json as ascii\n",
    "    if sys.version_info[0] is 2:\n",
    "        # if a string, then returns list of strings\n",
    "        if type(b_new[0]) is unicode:\n",
    "            # translate from unicode to ascii\n",
    "            my_array = [b.encode('ascii','ignore') for b in b_new]\n",
    "        # otherwise, it's assumed to be numeric and returns numpy array\n",
    "        else:\n",
    "            my_array = np.array(b_new)\n",
    "    else:\n",
    "        # if a string, then returns list of strings\n",
    "        if type(b_new[0]) is str:\n",
    "            my_array = b_new  # just return\n",
    "        # otherwise, it's assumed to be numeric and returns numpy array\n",
    "        else:\n",
    "            my_array = np.array(b_new)\n",
    "\n",
    "    return my_array"
   ]
  },
  {
   "cell_type": "markdown",
   "metadata": {},
   "source": [
    "## 1. MNIST Classification\n",
    "The MNIST dataset consists of tens of thousands of handwritten digits transformed into 28x28 grids of pixels whose cells correspond to gray values, such as the one below. Each datapoint has an associated integer label."
   ]
  },
  {
   "cell_type": "code",
   "execution_count": 3,
   "metadata": {},
   "outputs": [
    {
     "name": "stdout",
     "output_type": "stream",
     "text": [
      "Extracting MNIST_data/train-images-idx3-ubyte.gz\n",
      "Extracting MNIST_data/train-labels-idx1-ubyte.gz\n",
      "Extracting MNIST_data/t10k-images-idx3-ubyte.gz\n",
      "Extracting MNIST_data/t10k-labels-idx1-ubyte.gz\n"
     ]
    }
   ],
   "source": [
    "mnist = input_data.read_data_sets(\"data/MNIST_data/\", one_hot=True)"
   ]
  },
  {
   "cell_type": "code",
   "execution_count": 14,
   "metadata": {},
   "outputs": [
    {
     "data": {
      "text/plain": [
       "<matplotlib.image.AxesImage at 0x130235790>"
      ]
     },
     "execution_count": 14,
     "metadata": {},
     "output_type": "execute_result"
    },
    {
     "data": {
      "image/png": "[encoded data removed]",
      "text/plain": [
       "<matplotlib.figure.Figure at 0x1281b4b10>"
      ]
     },
     "metadata": {},
     "output_type": "display_data"
    }
   ],
   "source": [
    "fig = plt.figure(figsize=(1.5,1.5))\n",
    "plt.imshow(mnist.train.images[1].reshape((28, 28)), cmap=plt.cm.gray)"
   ]
  },
  {
   "cell_type": "markdown",
   "metadata": {},
   "source": [
    "### 1.1 Logistic regression\n",
    "Our first task will be to construct a neural network that can correctly classify these images by digit. We'll do this using logistic regression and begin with a learning rate ($\\eta$) of 0.5 and a single output layer with 10 nodes corresponding to the 10 possible digits. We will use categorical cross entropy as our loss function and optimize using stochastic gradient descent. Finally, we'll sample every 10 epochs to measure the increase in accuracy over time (in training steps)."
   ]
  },
  {
   "cell_type": "code",
   "execution_count": 5,
   "metadata": {
    "collapsed": true
   },
   "outputs": [],
   "source": [
    "def nn_W(shape):\n",
    "    '''Creates a weight variable\n",
    "    \n",
    "    Parameters\n",
    "    ----------\n",
    "    shape: size of input vector'''\n",
    "    initial = tf.truncated_normal(shape, stddev=0.1)\n",
    "    return tf.Variable(initial)"
   ]
  },
  {
   "cell_type": "code",
   "execution_count": 6,
   "metadata": {
    "collapsed": true
   },
   "outputs": [],
   "source": [
    "def nn_b(shape):\n",
    "    '''Creates a bias variable\n",
    "    \n",
    "    Parameters:\n",
    "    -----------\n",
    "    shape: size of output vector'''\n",
    "    initial = tf.truncated_normal(shape, stddev=0.1)\n",
    "    return tf.Variable(initial)"
   ]
  },
  {
   "cell_type": "code",
   "execution_count": 7,
   "metadata": {
    "collapsed": true
   },
   "outputs": [],
   "source": [
    "def layer_mult(x, input_shape, output_shape):\n",
    "    '''Returns linear transformation of x using weight \n",
    "    matrix and bias vector\n",
    "    \n",
    "    Parameters\n",
    "    ----------\n",
    "    x: input vector\n",
    "    input_shape: size of input vector\n",
    "    output_shape: size of output vector'''\n",
    "    W = nn_W([input_shape, output_shape])\n",
    "    b = nn_b([output_shape])\n",
    "    return tf.matmul(x, W) + b"
   ]
  },
  {
   "cell_type": "code",
   "execution_count": 8,
   "metadata": {
    "collapsed": true
   },
   "outputs": [],
   "source": [
    "def classifier1(input_shape, output_shape, eta=0.5, \n",
    "                batch_size=100, sample_every=10, epochs=1000):\n",
    "    '''Classifies MNIST data via logistic regression and \n",
    "    returns the accuracy of the classifier\n",
    "    \n",
    "    Parameters\n",
    "    ----------\n",
    "    input_shape: size of input vector\n",
    "    output_shape: size of output vector\n",
    "    eta: learning rate (default=0.5)\n",
    "    batch_size: batch size for training\n",
    "    sample_every: sampling frequency\n",
    "    epochs: number of training iterations'''\n",
    "    # None is given a placeholder dimension so it can be varied later\n",
    "    x = tf.placeholder(tf.float32, [None, input_shape])\n",
    "    # Create a placeholder for correct answers\n",
    "    y_ = tf.placeholder(tf.float32, [None, output_shape])\n",
    "\n",
    "    # Using tf.add let's us name our variable for downstreams \n",
    "    # visualization and debugging\n",
    "    y = tf.nn.softmax(layer_mult(x, input_shape, output_shape))\n",
    "    loss = tf.reduce_mean(tf.nn.softmax_cross_entropy_with_logits(logits=y, \n",
    "                labels=y_, name='loss'), name='avg_loss')\n",
    "    # Now well create the optimizer that will do our gradient descent\n",
    "    # The way we set this up, tf knows we want to update w and b, \n",
    "    # but we can change thiswith var_list. It knows this because \n",
    "    # those are the variables associated with the loss function\n",
    "    train_step = tf.train.GradientDescentOptimizer(\n",
    "        learning_rate=eta).minimize(loss=loss)\n",
    "    accuracies = []\n",
    "    with tf.Session() as sess:\n",
    "        # Initialize variables from above\n",
    "        sess.run(tf.global_variables_initializer())\n",
    "        # Training loop\n",
    "        for step in tqdm_notebook(range(epochs), leave=False):\n",
    "            batch_x, batch_y = mnist.train.next_batch(batch_size=batch_size)\n",
    "            train_step.run(feed_dict={x: batch_x, y_:batch_y})\n",
    "            # Sample accuracy\n",
    "            if step%sample_every==0:\n",
    "                correct_prediction = tf.equal(tf.argmax(y,1), tf.argmax(y_,1))\n",
    "                tf_accuracy = tf.reduce_mean(tf.cast(correct_prediction, \n",
    "                                                     tf.float32))\n",
    "                accuracy = sess.run(tf_accuracy, \n",
    "                    feed_dict={x: mnist.test.images, y_: mnist.test.labels})\n",
    "                accuracies.append(accuracy)\n",
    "    print('Final accuracy: %f') % (accuracies[-1])\n",
    "    return accuracies"
   ]
  },
  {
   "cell_type": "code",
   "execution_count": 9,
   "metadata": {},
   "outputs": [
    {
     "data": {
      "application/vnd.jupyter.widget-view+json": {
       "model_id": "abe24e2ad3224f67ac65f46fb30d276b"
      }
     },
     "metadata": {},
     "output_type": "display_data"
    },
    {
     "name": "stdout",
     "output_type": "stream",
     "text": [
      "\r",
      "Final accuracy: 0.920800\n"
     ]
    }
   ],
   "source": [
    "tf.reset_default_graph()\n",
    "logreg_acc = classifier1(input_shape=784, output_shape=10, \n",
    "                         sample_every=50, epochs=5000)"
   ]
  },
  {
   "cell_type": "code",
   "execution_count": 15,
   "metadata": {},
   "outputs": [
    {
     "data": {
      "text/plain": [
       "<matplotlib.text.Text at 0x10d21a790>"
      ]
     },
     "execution_count": 15,
     "metadata": {},
     "output_type": "execute_result"
    },
    {
     "data": {
      "image/png": "[encoded data removed]",
      "text/plain": [
       "<matplotlib.figure.Figure at 0x1281b4350>"
      ]
     },
     "metadata": {},
     "output_type": "display_data"
    }
   ],
   "source": [
    "fig, ax = plt.subplots(figsize=(2,2))\n",
    "ax.scatter(x=range(len(logreg_acc)), y=logreg_acc, marker='.')\n",
    "ax.set_ylabel('Accuracy')"
   ]
  },
  {
   "cell_type": "markdown",
   "metadata": {},
   "source": [
    "With our simple logistic regression classifier we achieved an accuracy of about 92%. Although we can classify handwritten digits with over 90% accuracy, typical scores on the MNIST data approach 97-99% accuracy through the addition of hidden layers, manipulation of $\\eta$, and exprimentation with other activation and loss functions. Next we will create a feed-forward neural network with a single hidden layer to explore the effects of these parameters.\n",
    "### 1.2 Feed-forward neural network\n",
    "We will add a single hidden layer with 128 nodes between the input and output layers to our logistic regression classifier and add two parameters that allow us to change the activation functions."
   ]
  },
  {
   "cell_type": "code",
   "execution_count": 19,
   "metadata": {
    "collapsed": true
   },
   "outputs": [],
   "source": [
    "def classifier2(h1_act ='sigmoid', y_act='sigmoid', eta=0.5, \n",
    "              input_shape=784, width=128, output_shape=10, \n",
    "              batch_size=100, epochs=1000, sample_every=100):\n",
    "    '''Classifies MNIST data via a feed-forward neural network\n",
    "    \n",
    "    Parameters\n",
    "    ----------\n",
    "    h1_act: hidden layer activation function (default='sigmoid')\n",
    "    y_act: output layer activation function (default='sigmoid')\n",
    "    eta: learning rate (default=0.5)\n",
    "    input_shape: size of input vector (default=784)\n",
    "    width: width of hidden layer (default=128)\n",
    "    output_shape: size of output vector (default=10)\n",
    "    batch_size: batch size for training\n",
    "    epochs: number of training iterations\n",
    "    sample_every: sampling frequency'''\n",
    "    # Reset any old graphs\n",
    "    tf.reset_default_graph()\n",
    "\n",
    "    x = tf.placeholder(shape=[None,784], dtype=tf.float32)\n",
    "    y_ = tf.placeholder(shape=[None,10], dtype=tf.float32)\n",
    "    # Switches for activation functions\n",
    "    if h1_act=='linear': h1 = tf.nn.softmax(layer_mult(x, input_shape, width))\n",
    "    if h1_act=='sigmoid': h1 = tf.nn.sigmoid(layer_mult(x, input_shape, width))\n",
    "    if h1_act=='relu': h1 = tf.nn.relu(layer_mult(x, input_shape, width))\n",
    "    if h1_act=='tanh': h1 = tf.nn.tanh(layer_mult(x, input_shape, width))\n",
    "    if h1_act=='elu': h1 = tf.nn.elu(layer_mult(x, input_shape, width))\n",
    "    if h1_act=='softplus': h1 = tf.nn.softplus(layer_mult(x, input_shape, width))\n",
    "        \n",
    "    if y_act=='linear': y = tf.nn.softmax(layer_mult(h1, width, output_shape))\n",
    "    if y_act=='sigmoid': y = tf.nn.sigmoid(layer_mult(h1, width, output_shape))\n",
    "    if y_act=='relu': y = tf.nn.relu(layer_mult(h1, width, output_shape))\n",
    "    if y_act=='tanh': y = tf.nn.tanh(layer_mult(h1, width, output_shape))\n",
    "    if y_act=='elu': y = tf.nn.elu(layer_mult(h1, width, output_shape))\n",
    "    if y_act=='softplut': y = tf.nn.softplus(layer_mult(h1, width, output_shape))\n",
    "    \n",
    "    loss = tf.reduce_mean(tf.nn.softmax_cross_entropy_with_logits(logits=y, \n",
    "                            labels=y_, name='loss'), name='avg_loss')\n",
    "    train_step = tf.train.GradientDescentOptimizer(\n",
    "            learning_rate=eta).minimize(loss=loss)\n",
    "\n",
    "    accuracies = []\n",
    "    batch_size = batch_size\n",
    "    with tf.Session() as sess:\n",
    "        sess.run(tf.global_variables_initializer())\n",
    "        for step in tqdm_notebook(range(epochs), leave=False):\n",
    "            batch_x, batch_y = mnist.train.next_batch(batch_size=batch_size)\n",
    "            train_step.run(feed_dict={x:batch_x, y_:batch_y})\n",
    "\n",
    "            if step%sample_every==0:\n",
    "                predictions = np.argmax(sess.run(\n",
    "                    y, feed_dict={x: mnist.test.images,\n",
    "                                  y_: mnist.test.labels}), axis=1)\n",
    "                correct_prediction = tf.equal(tf.argmax(y,1), tf.argmax(y_,1))\n",
    "                tf_accuracy = tf.reduce_mean(\n",
    "                    tf.cast(correct_prediction, tf.float32))\n",
    "                accuracy = sess.run(tf_accuracy, \n",
    "                            feed_dict={x: mnist.test.images, \n",
    "                                       y_: mnist.test.labels})\n",
    "                accuracies.append(accuracy)\n",
    "\n",
    "    return accuracies, predictions, np.argmax(mnist.test.labels, axis=1)"
   ]
  },
  {
   "cell_type": "markdown",
   "metadata": {},
   "source": [
    "First, we can alter the activation function before the hidden layer, after the hidden layer, or both before and after. In the top left panel of the figure below we see that the greatest accuracy was most quickly achieved using a sigmoid activation function before and after the hidden layer."
   ]
  },
  {
   "cell_type": "code",
   "execution_count": 20,
   "metadata": {},
   "outputs": [
    {
     "data": {
      "application/vnd.jupyter.widget-view+json": {
       "model_id": "402c715263764decad2ad86919ec4b6d"
      }
     },
     "metadata": {},
     "output_type": "display_data"
    },
    {
     "name": "stdout",
     "output_type": "stream",
     "text": [
      "\r"
     ]
    },
    {
     "data": {
      "application/vnd.jupyter.widget-view+json": {
       "model_id": "854c9436404a46ef98e6a722c1047c3f"
      }
     },
     "metadata": {},
     "output_type": "display_data"
    },
    {
     "name": "stdout",
     "output_type": "stream",
     "text": [
      "\r"
     ]
    },
    {
     "data": {
      "application/vnd.jupyter.widget-view+json": {
       "model_id": "830083e26dca42eaaeb4d0d0f2df50d9"
      }
     },
     "metadata": {},
     "output_type": "display_data"
    },
    {
     "name": "stdout",
     "output_type": "stream",
     "text": [
      "\r"
     ]
    }
   ],
   "source": [
    "ff_lin_sig_acc, ff_lin_sig_pred, ff_lin_sig_truth = classifier2(\n",
    "    h1_act ='linear', epochs=10000, sample_every=100)\n",
    "ff_sig_lin_acc, ff_sig_lin_pred, ff_sig_lin_truth = classifier2(\n",
    "    y_act='linear', epochs=10000, sample_every=100)\n",
    "ff_sig_sig_acc, ff_sig_sig_pred, ff_sig_sig_truth = classifier2(\n",
    "    epochs=10000, sample_every=100)"
   ]
  },
  {
   "cell_type": "markdown",
   "metadata": {},
   "source": [
    "Second, we will alter the learning rate, $\\eta$, to examine how efficiently we are optimizing our loss function. A small learning rate may converge to a local minimum but a large learning rate may not converge at all. The top right panel of the figure below shows a general trend of higher learning rates leading to higher accuracy when using a sigmoid activiation function before and after the hidden layer. This is unexpected as $\\eta=0.5$ is already a moderately large learning rate. Some accuracy curves showed discontinuous jumps; therefore it may be that smaller learning rates will approach or exceed the accuracy of networks with larger learn rates but that behavior was not found, even over 10,000 epochs."
   ]
  },
  {
   "cell_type": "code",
   "execution_count": 21,
   "metadata": {},
   "outputs": [
    {
     "data": {
      "application/vnd.jupyter.widget-view+json": {
       "model_id": "d2526a98ebb140a5a998b5b3d261e420"
      }
     },
     "metadata": {},
     "output_type": "display_data"
    },
    {
     "name": "stdout",
     "output_type": "stream",
     "text": [
      "\r"
     ]
    },
    {
     "data": {
      "application/vnd.jupyter.widget-view+json": {
       "model_id": "518883de7f7e4ee1a691c3b303230b38"
      }
     },
     "metadata": {},
     "output_type": "display_data"
    },
    {
     "name": "stdout",
     "output_type": "stream",
     "text": [
      "\r"
     ]
    },
    {
     "data": {
      "application/vnd.jupyter.widget-view+json": {
       "model_id": "d696aa87dd30441382ecc9936ed7a91f"
      }
     },
     "metadata": {},
     "output_type": "display_data"
    },
    {
     "name": "stdout",
     "output_type": "stream",
     "text": [
      "\r"
     ]
    },
    {
     "data": {
      "application/vnd.jupyter.widget-view+json": {
       "model_id": "893b98ff4b2e4defa2fb410139964d6c"
      }
     },
     "metadata": {},
     "output_type": "display_data"
    },
    {
     "name": "stdout",
     "output_type": "stream",
     "text": [
      "\r"
     ]
    },
    {
     "data": {
      "application/vnd.jupyter.widget-view+json": {
       "model_id": "562ba294e7494e9e80cbdc7810c70a3c"
      }
     },
     "metadata": {},
     "output_type": "display_data"
    },
    {
     "name": "stdout",
     "output_type": "stream",
     "text": [
      "\r"
     ]
    },
    {
     "data": {
      "application/vnd.jupyter.widget-view+json": {
       "model_id": "aefcca9d06754a37a28743defb8307d3"
      }
     },
     "metadata": {},
     "output_type": "display_data"
    },
    {
     "name": "stdout",
     "output_type": "stream",
     "text": [
      "\r"
     ]
    }
   ],
   "source": [
    "ff_sig_0001_acc, ff_sig_0001_pred, ff_sig_0001_truth = classifier2(\n",
    "    eta=0.0001, epochs=10000, sample_every=100)\n",
    "ff_sig_001_acc, ff_sig_001_pred, ff_sig_001_truth = classifier2(\n",
    "    eta=0.01, epochs=10000, sample_every=100)\n",
    "ff_sig_05_acc, ff_sig_05_pred, ff_sig_05_truth = classifier2(\n",
    "    eta=0.05, epochs=10000, sample_every=100)\n",
    "ff_sig_10_acc, ff_sig_10_pred, ff_sig_10_truth = classifier2(\n",
    "    eta=0.1, epochs=10000, sample_every=100)\n",
    "ff_sig_30_acc, ff_sig_30_pred, ff_sig_30_truth = classifier2(\n",
    "    eta=0.3, epochs=10000, sample_every=100)\n",
    "ff_sig_70_acc, ff_sig_70_pred, ff_sig_70_truth = classifier2(\n",
    "    eta=0.7, epochs=10000, sample_every=100)"
   ]
  },
  {
   "cell_type": "markdown",
   "metadata": {},
   "source": [
    "Next, we will test the affects of using different activation functions before our hidden layer. We will keep $\\eta=0.7$ and substitute the first sigmoid function for 1) tanh, 2) relu, 3) softplus, and 4) elu. All activation functions produced very similar final accuracies within just a few epochs, although the relu+sigmoid network produced the final accuracy of ~97%."
   ]
  },
  {
   "cell_type": "code",
   "execution_count": 22,
   "metadata": {},
   "outputs": [
    {
     "data": {
      "application/vnd.jupyter.widget-view+json": {
       "model_id": "c49ab0d997e140afadc01e2e8f97453f"
      }
     },
     "metadata": {},
     "output_type": "display_data"
    },
    {
     "name": "stdout",
     "output_type": "stream",
     "text": [
      "\r"
     ]
    },
    {
     "data": {
      "application/vnd.jupyter.widget-view+json": {
       "model_id": "3da8292cddb44fd18498ef8a7708087d"
      }
     },
     "metadata": {},
     "output_type": "display_data"
    },
    {
     "name": "stdout",
     "output_type": "stream",
     "text": [
      "\r"
     ]
    },
    {
     "data": {
      "application/vnd.jupyter.widget-view+json": {
       "model_id": "b86ed76eb3d943029adefcf0516763fb"
      }
     },
     "metadata": {},
     "output_type": "display_data"
    },
    {
     "name": "stdout",
     "output_type": "stream",
     "text": [
      "\r"
     ]
    },
    {
     "data": {
      "application/vnd.jupyter.widget-view+json": {
       "model_id": "c91872b1ef7b4b14a58a133372ee57f1"
      }
     },
     "metadata": {},
     "output_type": "display_data"
    },
    {
     "name": "stdout",
     "output_type": "stream",
     "text": [
      "\r"
     ]
    }
   ],
   "source": [
    "ff_tanh_sig_acc, ff_tanh_sig_pred, ff_tanh_sig_truth = classifier2(\n",
    "    h1_act ='tanh', eta=0.7, epochs=10000, sample_every=100)\n",
    "ff_relu_sig_acc, ff_relu_sig_pred, ff_relu_sig_truth = classifier2(\n",
    "    h1_act ='relu', eta=0.7, epochs=10000, sample_every=100)\n",
    "ff_sp_sig_acc, ff_sp_sig_pred, ff_sp_sig_truth = classifier2(\n",
    "    h1_act ='softplus', eta=0.7, epochs=10000, sample_every=100)\n",
    "ff_elu_sig_acc, ff_elu_sig_pred, ff_elu_sig_truth = classifier2(\n",
    "    h1_act ='elu', eta=0.7, epochs=10000, sample_every=100)"
   ]
  },
  {
   "cell_type": "markdown",
   "metadata": {},
   "source": [
    "Finally, we can see the effects of the hidden layer width by multiplying the original 128-unit layer by factors of 2. We find only slight differences between the layer widths but the runtime for the smallest layer width was 1-2 minutes faster than for the largest layer width (bottom right panel, below)."
   ]
  },
  {
   "cell_type": "code",
   "execution_count": 23,
   "metadata": {},
   "outputs": [
    {
     "data": {
      "application/vnd.jupyter.widget-view+json": {
       "model_id": "60229e03ba394e4fad17ea15d9158ca4"
      }
     },
     "metadata": {},
     "output_type": "display_data"
    },
    {
     "name": "stdout",
     "output_type": "stream",
     "text": [
      "\r"
     ]
    },
    {
     "data": {
      "application/vnd.jupyter.widget-view+json": {
       "model_id": "4c649191ab8f4484988af1cc6eee14fc"
      }
     },
     "metadata": {},
     "output_type": "display_data"
    },
    {
     "name": "stdout",
     "output_type": "stream",
     "text": [
      "\r"
     ]
    },
    {
     "data": {
      "application/vnd.jupyter.widget-view+json": {
       "model_id": "77aeb29de18045679e21f81b2e53f0db"
      }
     },
     "metadata": {},
     "output_type": "display_data"
    },
    {
     "name": "stdout",
     "output_type": "stream",
     "text": [
      "\r"
     ]
    },
    {
     "data": {
      "application/vnd.jupyter.widget-view+json": {
       "model_id": "83f5fd83defa41058b787bf981c12ed0"
      }
     },
     "metadata": {},
     "output_type": "display_data"
    },
    {
     "name": "stdout",
     "output_type": "stream",
     "text": [
      "\r"
     ]
    }
   ],
   "source": [
    "ff_w64_acc, ff_w64_pred, ff_w64_truth = classifier2(h1_act='relu',\n",
    "    eta=0.7, width=64, epochs=10000, sample_every=100)\n",
    "ff_w256_acc, ff_w256_pred, ff_w256_truth = classifier2(h1_act='relu',\n",
    "    eta=0.7, width=256, epochs=10000, sample_every=100)\n",
    "ff_w512_acc, ff_w512_pred, ff_w512_truth = classifier2(h1_act='relu',\n",
    "    eta=0.7, width=512, epochs=10000, sample_every=100)\n",
    "ff_w1024_acc, ff_w1024_pred, ff_w1024_truth = classifier2(h1_act='relu',\n",
    "    eta=0.7, width=1024, epochs=10000, sample_every=100)"
   ]
  },
  {
   "cell_type": "code",
   "execution_count": 24,
   "metadata": {},
   "outputs": [
    {
     "data": {
      "image/png": "[encoded data removed]",
      "text/plain": [
       "<matplotlib.figure.Figure at 0x12ff67a50>"
      ]
     },
     "metadata": {},
     "output_type": "display_data"
    }
   ],
   "source": [
    "fig, ((ax, ax2), (ax3, ax4)) = plt.subplots(2,2, \n",
    "                            figsize=(8,8), sharex=True, sharey=True)\n",
    "\n",
    "ax.scatter(x=range(len(ff_lin_sig_acc)), y=ff_lin_sig_acc, marker='.', \n",
    "           color='xkcd:pale red', label='softmax + sigmoid')\n",
    "ax.scatter(x=range(len(ff_sig_lin_acc)), y=ff_sig_lin_acc, marker='.', \n",
    "           color='xkcd:denim blue', label='sigmoid + softmax')\n",
    "ax.scatter(x=range(len(ff_sig_sig_acc)), y=ff_sig_sig_acc, marker='.', \n",
    "           color='xkcd:amber', label='sigmoid + sigmoid')\n",
    "ax2.scatter(x=range(len(ff_sig_0001_acc)), y=ff_sig_0001_acc, marker='.', \n",
    "            color='xkcd:merlot', label='$\\eta=0.0001$')\n",
    "ax2.scatter(x=range(len(ff_sig_001_acc)), y=ff_sig_001_acc, marker='.', \n",
    "            color='xkcd:pale red', label='$\\eta=0.001$')\n",
    "ax2.scatter(x=range(len(ff_sig_05_acc)), y=ff_sig_05_acc, marker='.', \n",
    "            color='xkcd:amber', label='$\\eta=0.05$')\n",
    "ax2.scatter(x=range(len(ff_sig_10_acc)), y=ff_sig_10_acc, marker='.', \n",
    "            color='xkcd:turtle green', label='$\\eta=0.1$')\n",
    "ax2.scatter(x=range(len(ff_sig_30_acc)), y=ff_sig_30_acc, marker='.', \n",
    "            color='xkcd:light blue grey', label='$\\eta=0.3$')\n",
    "ax2.scatter(x=range(len(ff_sig_sig_acc)), y=ff_sig_sig_acc, marker='.', \n",
    "            color='xkcd:denim blue', label='$\\eta=0.5$')\n",
    "ax2.scatter(x=range(len(ff_sig_70_acc)), y=ff_sig_70_acc, marker='.', \n",
    "            color='xkcd:bluish purple', label='$\\eta=0.7$')\n",
    "ax3.scatter(x=range(len(ff_sig_70_acc)), y=ff_sig_70_acc, marker='.', \n",
    "            color='xkcd:pale red', label='sigmoid + sigmoid')\n",
    "ax3.scatter(x=range(len(ff_tanh_sig_acc)), y=ff_tanh_sig_acc, marker='.', \n",
    "            color='xkcd:amber', label='tanh + sigmoid')\n",
    "ax3.scatter(x=range(len(ff_relu_sig_acc)), y=ff_relu_sig_acc, marker='.', \n",
    "            color='xkcd:turtle green', label='relu + sigmoid')\n",
    "ax3.scatter(x=range(len(ff_sp_sig_acc)), y=ff_sp_sig_acc, marker='.', \n",
    "            color='xkcd:denim blue', label='softplus + sigmoid')\n",
    "ax3.scatter(x=range(len(ff_elu_sig_acc)), y=ff_elu_sig_acc, marker='.', \n",
    "            color='xkcd:bluish purple', label='elu + sigmoid')\n",
    "ax4.scatter(x=range(len(ff_w64_acc)), y=ff_w64_acc, marker='.', \n",
    "            color='xkcd:pale red', label='64')\n",
    "ax4.scatter(x=range(len(ff_sig_70_acc)), y=ff_sig_70_acc, marker='.', \n",
    "            color='xkcd:amber', label='128')\n",
    "ax4.scatter(x=range(len(ff_w256_acc)), y=ff_w256_acc, marker='.', \n",
    "            color='xkcd:turtle green', label='256')\n",
    "ax4.scatter(x=range(len(ff_w512_acc)), y=ff_w512_acc, marker='.', \n",
    "            color='xkcd:denim blue', label='512')\n",
    "ax4.scatter(x=range(len(ff_w1024_acc)), y=ff_w1024_acc, marker='.', \n",
    "            color='xkcd:bluish purple', label='1024')\n",
    "\n",
    "ax.set_title('$\\eta=0.5$')\n",
    "ax.set_ylabel('Accuracy')\n",
    "ax2.set_title('sigmoid + sigmoid')\n",
    "ax3.set_xlabel('Training epoch (10s)')\n",
    "ax3.set_title('$\\eta=0.7$')\n",
    "ax3.set_ylabel('Accuracy')\n",
    "ax4.set_title('relu + sigmoid, $\\eta=0.7$')\n",
    "ax4.set_xlabel('Training epoch (10s)')\n",
    "\n",
    "ax.legend(loc='center right', fontsize=10, frameon=True)\n",
    "ax2.legend(loc = 'center right', frameon=True, fontsize=10, ncol=2)\n",
    "ax3.legend(loc='center right', fontsize=10, frameon=True)\n",
    "ax4.legend(title='Hidden layer width', loc='center right', \n",
    "           fontsize=10, frameon=True)\n",
    "ax.set_yticks(np.round(np.linspace(start=0, stop=1.0, num=11), decimals=1))\n",
    "for axis in [ax, ax2, ax3, ax4]:\n",
    "    axis.yaxis.set_ticks_position('both')\n",
    "    axis.tick_params(direction='out', length=6, axis='both', which='major')\n",
    "plt.tight_layout()"
   ]
  },
  {
   "cell_type": "markdown",
   "metadata": {},
   "source": [
    "Our best performing network was the relu+sigmoid activation functions using $\\eta=0.7$ and a hidden layer width of 1024 units. This produced a final accuracy of 97.5% after 10,000 training epochs. We can more closely examine our networks strengths and weaknesses in classification by producing a confusion matrix, a matrix that shows the rate of misclassifcation between digits. We expect our model to easily discern certain digits, such as 0 and 1, and less easily discern more similar digits like 3 and 8. A heatmap showing the rate of misclassification is shown below, along with a bar chart showing the total rate of misclassification for each digit."
   ]
  },
  {
   "cell_type": "code",
   "execution_count": 25,
   "metadata": {
    "collapsed": true
   },
   "outputs": [],
   "source": [
    "truths = ff_w1024_pred\n",
    "classifications = ff_w1024_truth\n",
    "conf_mat = np.zeros([10,10])\n",
    "for t in range(len(truths)):\n",
    "    if truths[t]!=classifications[t]:\n",
    "        conf_mat[truths[t], classifications[t]]+=1"
   ]
  },
  {
   "cell_type": "code",
   "execution_count": 26,
   "metadata": {},
   "outputs": [
    {
     "data": {
      "image/png": "[encoded data removed]",
      "text/plain": [
       "<matplotlib.figure.Figure at 0x12c74bf10>"
      ]
     },
     "metadata": {},
     "output_type": "display_data"
    }
   ],
   "source": [
    "fig, ax = plt.subplots(1,2, figsize=(8,4))\n",
    "mymap = ax[0].imshow(conf_mat, cmap='gnuplot')\n",
    "\n",
    "ax[0].set_xticks(range(10))\n",
    "ax[0].set_yticks(range(10))\n",
    "ax[0].set_xlabel('Predicted')\n",
    "ax[0].set_ylabel('Expected')\n",
    "\n",
    "ax[1].bar(left=range(10), height=np.sum(conf_mat, axis=1))\n",
    "ax[1].set_xticks(range(10))\n",
    "ax[1].set_ylabel('Total sisclassifications')\n",
    "ax[1].set_xlabel('MNIST label')\n",
    "\n",
    "plt.colorbar(mymap, fraction=0.046, pad=0.04, ax=ax[0])\n",
    "plt.tight_layout()"
   ]
  },
  {
   "cell_type": "markdown",
   "metadata": {},
   "source": [
    "We see that the most confused digits pairs were (3,5) and (4,9). Unsurprisingly, 3 was the least misclassified digit despite its similarity in looping structures to 2, 5, 6, 8, and 9. \n",
    "\n",
    "## 2. Autoencoders\n",
    "### 2.1 MNIST data\n",
    "Autoencoders are an example of unsupervised learning that can indentify patterns in the data to reconstruct images similar to compression. Below we will define an autoencoder that compresses the input information from 784 units to just 2 (the encoding step) and then decodes the compressed information to form a new image of the original size (the decoding step). The shape of our network will be 784-1,000-500-250-2-25-500-1,000-784. Our autoencoder will (hopefully) learn to reproduce recognizable images of each digit. In addition to reproducing images, we can extract the embedding into the middle layer of the autoencoder, which projects our data into two dimensions. This projection can be used for clustering. Note that we have changed our optimizer from stochastic gradient descent to an ADAM optimizer."
   ]
  },
  {
   "cell_type": "code",
   "execution_count": 27,
   "metadata": {
    "collapsed": true
   },
   "outputs": [],
   "source": [
    "def autoencoder1(input_shape, output_shape, epochs=1000, \n",
    "                            batch_size=100, eta=0.001):\n",
    "    '''An autoencoder that recreates MNIST digits.\n",
    "    \n",
    "    Parameters\n",
    "    ----------\n",
    "    input_shape: size of input vector\n",
    "    output_shape: size of output vector\n",
    "    epochs: number of training iterations\n",
    "    batch_size: batch size for training\n",
    "    eta: learning rate (default=0.001)\n",
    "    \n",
    "    Returns\n",
    "    -------\n",
    "    middle_out: middle layer embedding\n",
    "    image_out: output image reconstructions\n",
    "    batch_img: MNIST images used for testing\n",
    "    labels: MNIST labels used for testing'''\n",
    "    tf.reset_default_graph()\n",
    "    \n",
    "    input_img = tf.placeholder(name='input_img', \n",
    "                shape=[None, input_shape], dtype=tf.float32)\n",
    "    # Begin encoding\n",
    "    e1 = tf.tanh(layer_mult(input_img, input_shape, 1000), name='e1')\n",
    "    e2 = tf.tanh(layer_mult(e1, 1000, 500), name='e2')\n",
    "    e3 = tf.tanh(layer_mult(e2, 500, 250), name='e3')\n",
    "    middle = layer_mult(e3, 250, 2)\n",
    "    # Begin decoding\n",
    "    d1 = tf.tanh(layer_mult(middle, 2, 250), name='d1')\n",
    "    d2 = tf.tanh(layer_mult(d1, 250, 500), name='d2')\n",
    "    d3 = tf.tanh(layer_mult(d2, 500, 1000), name='d3')\n",
    "    output_img = tf.nn.sigmoid(layer_mult(d3, 1000, output_shape), \n",
    "                               name='output_img')\n",
    "    loss = tf.reduce_mean(tf.squared_difference(input_img, output_img), \n",
    "                          name='avg_loss')  \n",
    "    train_step = tf.train.AdamOptimizer(eta).minimize(loss=loss)\n",
    "    \n",
    "    with tf.Session() as sess:\n",
    "        sess.run(tf.global_variables_initializer())\n",
    "        for step in tqdm_notebook(range(epochs), leave=False):\n",
    "            batch_img, batch_label = mnist.train.next_batch(batch_size)\n",
    "            train_step.run(feed_dict={input_img:batch_img})\n",
    "\n",
    "        # View middle layer\n",
    "        batch_img, batch_label = mnist.test.next_batch(batch_size)\n",
    "        middle_out = sess.run(middle, feed_dict={input_img: batch_img})\n",
    "        pred = np.asarray(middle_out)\n",
    "        labels = np.argmax(batch_label, axis=1)\n",
    "        image_out = sess.run(output_img, feed_dict={input_img: batch_img})\n",
    "    \n",
    "    return middle_out, image_out, batch_img, labels"
   ]
  },
  {
   "cell_type": "code",
   "execution_count": 28,
   "metadata": {},
   "outputs": [
    {
     "data": {
      "application/vnd.jupyter.widget-view+json": {
       "model_id": "ca4e60de87b94efabdfa1f21e5ee5706"
      }
     },
     "metadata": {},
     "output_type": "display_data"
    },
    {
     "name": "stdout",
     "output_type": "stream",
     "text": [
      "\r"
     ]
    }
   ],
   "source": [
    "middle, decode, mnist_imgs, labels = autoencoder1(784, 784, epochs=10000)"
   ]
  },
  {
   "cell_type": "code",
   "execution_count": 29,
   "metadata": {
    "scrolled": false
   },
   "outputs": [
    {
     "data": {
      "image/png": "[encoded data removed]",
      "text/plain": [
       "<matplotlib.figure.Figure at 0x12aaea910>"
      ]
     },
     "metadata": {},
     "output_type": "display_data"
    }
   ],
   "source": [
    "fig, ax = plt.subplots(figsize=(4,4))\n",
    "ae_scat = ax.scatter(x=middle[:,0], y=middle[:,1], \n",
    "                     c=labels, cmap='Paired', marker='o')\n",
    "plt.colorbar(ae_scat)\n",
    "# for i in range(len(labels)):\n",
    "#     ax.text(middle[i,0]+0.2, middle[i,1]+0.2, labels[i], size=10)\n",
    "plt.tight_layout()"
   ]
  },
  {
   "cell_type": "markdown",
   "metadata": {},
   "source": [
    "We can see from our scatterplot that some digits like 1, 7, and 0 are very distinct in the middle layer embedding. Others, like 3, 5, and 8 are less distantly spaced but much form much more compact clusters. These results are similar to those we recovered with our feed-forward network and display how similar confusion rates can result from differnt spreads of data. For example, the digit 1 is very spread out but distinct. Hence, it may be easier to separate it from all other digits in classification than to reconstruct a \"canonical\" 1. In contrast, the digit 8 is nested centrally in \"middle-layer\" space but its distribution is very compact. This makes classification difficult, as see with out feed-forward network, but reconstruction easier, as seen below."
   ]
  },
  {
   "cell_type": "code",
   "execution_count": 30,
   "metadata": {},
   "outputs": [
    {
     "data": {
      "image/png": "[encoded data removed]",
      "text/plain": [
       "<matplotlib.figure.Figure at 0x12aacca50>"
      ]
     },
     "metadata": {},
     "output_type": "display_data"
    }
   ],
   "source": [
    "fig = plt.figure(figsize=(8,2))\n",
    "for i in range(10):\n",
    "    plt.subplot(2,10,i+1)\n",
    "    plt.imshow(mnist_imgs[np.where(labels==i)[0][0]].reshape((28, 28)), \n",
    "               cmap=plt.cm.gray)\n",
    "    plt.subplot(2,10,i+11)\n",
    "    plt.imshow(decode[np.where(labels==i)[0][0]].reshape((28, 28)), \n",
    "               cmap=plt.cm.gray)\n",
    "plt.show()"
   ]
  },
  {
   "cell_type": "markdown",
   "metadata": {},
   "source": [
    "In the above figure the top row are sample digits from MNIST and the bottom row are the decoded images from our autoencoder. All digits besides 5 (which may be confused with 6) are easily recognizable."
   ]
  },
  {
   "cell_type": "markdown",
   "metadata": {},
   "source": [
    "### 2.2 Bone marrow data\n",
    "We will now revisit an empirical set of mass cytometry data from bone marrow blood. From the project 2 outline:\n",
    ">This is a mass cytometry dataset taken from Bendall et al. (2011). It is a sample of cells from the bone marrow measured with several protein markers. The bone marrow is where most of your blood cells develop and mature in a process known as hematopoeisis. The red blood cells, which are generally less interesting to immunologists have been removed, the remaining cells are white blood cells which constitute most of your immune response. These cells detect and fight invaders. Types of white blood cells included in this data set include\n",
    "1. B cells (distinguished by the presence of the CD20 surface marker)\n",
    "2. Helper T cells (distinguished by the presence of CD4)\n",
    "3. Cytotoxic Killer T cells (distinguished by the presence of CD8)\n",
    "\n",
    "> This data set contains 3,000 blood cells with 31 channels.\n",
    "\n",
    "Here we will try to use our autoencoder to cluster the three cell types in the middle layer embedding. First we'll have to create a sampling method that preserves the indices of our training and testing data so that we can color our points by channel values later."
   ]
  },
  {
   "cell_type": "code",
   "execution_count": 31,
   "metadata": {
    "collapsed": true
   },
   "outputs": [],
   "source": [
    "bonemarrow = load_json_files('gilman_ian_ps2/data/cytof_data.json')\n",
    "channels = load_json_files('gilman_ian_ps2/data/cytof_channel_names.json')"
   ]
  },
  {
   "cell_type": "code",
   "execution_count": 32,
   "metadata": {
    "collapsed": true
   },
   "outputs": [],
   "source": [
    "def sample(array, size):\n",
    "    '''Sample an array without replacement\n",
    "    \n",
    "    Parameters\n",
    "    ----------\n",
    "    array: nx2 array\n",
    "    size: number of sample to take'''\n",
    "    inds = np.random.choice(array.shape[0], size=size, replace=False)\n",
    "    values = array[inds, :]\n",
    "    return values, inds"
   ]
  },
  {
   "cell_type": "code",
   "execution_count": 33,
   "metadata": {
    "collapsed": true
   },
   "outputs": [],
   "source": [
    "def sample_w_rep(array, size):\n",
    "    '''Sample an array with replacement\n",
    "    \n",
    "    Parameters\n",
    "    ----------\n",
    "    array: array\n",
    "    size: number of sample to take'''\n",
    "    inds = np.random.randint(array.shape[0], size=size)\n",
    "    values = array[inds, :]\n",
    "    return values, inds"
   ]
  },
  {
   "cell_type": "code",
   "execution_count": 34,
   "metadata": {
    "collapsed": true
   },
   "outputs": [],
   "source": [
    "def datasplit(data, ratio):\n",
    "    '''Split data into training and testing subsets\n",
    "    \n",
    "    Parameters\n",
    "    ----------\n",
    "    data: array\n",
    "    ratio: traing to testing ratio'''\n",
    "    train_val, train_ind = sample(data, size=int(ratio*len(data)))\n",
    "    mask = np.ones(len(data), dtype=bool)\n",
    "    mask[train_ind] = False \n",
    "    test_ind = [i for i in range(len(mask)) if mask[i]==True]\n",
    "    test_val = bonemarrow[mask]\n",
    "    return train_val, train_ind, test_val, test_ind"
   ]
  },
  {
   "cell_type": "markdown",
   "metadata": {},
   "source": [
    "Our autoencoder will roughly follow `autoencoder1`, above, but we'll implement our sampling method and change the output activation function from sigmoid to linear."
   ]
  },
  {
   "cell_type": "code",
   "execution_count": 35,
   "metadata": {
    "collapsed": true
   },
   "outputs": [],
   "source": [
    "def autoencoder2(input_shape, output_shape, dataset, labels, \n",
    "                epochs=1000, batch_size=100, eta=0.001):\n",
    "    '''An autoencoder that recreates MNIST digits.\n",
    "    \n",
    "    Parameters\n",
    "    ----------\n",
    "    input_shape: size of input vector\n",
    "    output_shape: size of output vector\n",
    "    dataset: dataset for traing/testing\n",
    "    labels: labels associated with dataset\n",
    "    epochs: number of training iterations\n",
    "    batch_size: batch size for training\n",
    "    eta: learning rate (default=0.001)\n",
    "    \n",
    "    Returns\n",
    "    -------\n",
    "    middle_out: middle layer embedding\n",
    "    image_out: output image reconstructions\n",
    "    batch_img: MNIST images used for testing\n",
    "    labels: MNIST labels used for testing'''\n",
    "    tf.reset_default_graph()\n",
    "    train_val, train_ind, test_val, test_ind = datasplit(dataset, 0.8)\n",
    "    \n",
    "    input_img = tf.placeholder(name='input_img', \n",
    "                        shape=[None, input_shape], dtype=tf.float32)\n",
    "    e1 = tf.tanh(layer_mult(input_img, input_shape, 1000), name='e1')\n",
    "    e2 = tf.tanh(layer_mult(e1, 1000, 500), name='e2')\n",
    "    e3 = tf.tanh(layer_mult(e2, 500, 250), name='e3')\n",
    "    middle = layer_mult(e3, 250, 2)\n",
    "    d1 = tf.tanh(layer_mult(middle, 2, 250), name='d1')\n",
    "    d2 = tf.tanh(layer_mult(d1, 250, 500), name='d2')\n",
    "    d3 = tf.tanh(layer_mult(d2, 500, 1000), name='d3')\n",
    "    output_img = layer_mult(d3, 1000, output_shape)\n",
    "\n",
    "    loss = tf.reduce_mean(\n",
    "        tf.squared_difference(input_img, output_img), name='avg_loss')  \n",
    "    train_step = tf.train.AdamOptimizer(eta).minimize(loss=loss)\n",
    "    \n",
    "    with tf.Session() as sess:\n",
    "        sess.run(tf.global_variables_initializer())\n",
    "        for step in tqdm_notebook(range(epochs), leave=False):\n",
    "            train_batch_img, train_batch_inds = sample_w_rep(\n",
    "                                        train_val, batch_size)\n",
    "            train_step.run(feed_dict={input_img:train_batch_img})\n",
    "\n",
    "        middle_out = sess.run(middle, feed_dict={input_img:test_val})\n",
    "        pred = np.asarray(middle_out)\n",
    "        image_out = sess.run(output_img, feed_dict={input_img:test_val})\n",
    "        \n",
    "    return middle_out, image_out, test_val, test_ind"
   ]
  },
  {
   "cell_type": "code",
   "execution_count": 36,
   "metadata": {},
   "outputs": [
    {
     "data": {
      "application/vnd.jupyter.widget-view+json": {
       "model_id": "36d3d550e73047649a16acfd9c5d020b"
      }
     },
     "metadata": {},
     "output_type": "display_data"
    },
    {
     "name": "stdout",
     "output_type": "stream",
     "text": [
      "\r"
     ]
    }
   ],
   "source": [
    "middle, image_out, test_vals, test_inds = autoencoder2(input_shape=31, \n",
    "    output_shape=31, dataset=bonemarrow, labels=channels, epochs=10000)"
   ]
  },
  {
   "cell_type": "markdown",
   "metadata": {
    "collapsed": true
   },
   "source": [
    "We can now visualize our embedding and compare it to our previous tSNE analysis."
   ]
  },
  {
   "cell_type": "code",
   "execution_count": 37,
   "metadata": {
    "collapsed": true
   },
   "outputs": [],
   "source": [
    "bdists = pairwise_distances(bonemarrow)\n",
    "tsne = TSNE(learning_rate=100).fit_transform(bdists)"
   ]
  },
  {
   "cell_type": "code",
   "execution_count": 38,
   "metadata": {
    "collapsed": true
   },
   "outputs": [],
   "source": [
    "cd4_ind = 5\n",
    "cd8_ind = 6\n",
    "cd20_ind = 9\n",
    "cd4_col = [bonemarrow[i][cd4_ind] for i in test_inds]\n",
    "cd8_col = [bonemarrow[i][cd8_ind] for i in test_inds]\n",
    "cd20_col = [bonemarrow[i][cd20_ind] for i in test_inds]"
   ]
  },
  {
   "cell_type": "code",
   "execution_count": 39,
   "metadata": {},
   "outputs": [
    {
     "data": {
      "image/png": "[encoded data removed]",
      "text/plain": [
       "<matplotlib.figure.Figure at 0x125437f90>"
      ]
     },
     "metadata": {},
     "output_type": "display_data"
    }
   ],
   "source": [
    "fig, ax = plt.subplots(2, 3, figsize=(6,4))\n",
    "cd4plt = ax[0,0].scatter(x=middle[:,0], y=middle[:,1], \n",
    "                marker='.', c=cd4_col, cmap='gnuplot')\n",
    "cd8plt = ax[0,1].scatter(x=middle[:,0], y=middle[:,1], \n",
    "                marker='.', c=cd8_col, cmap='gnuplot')\n",
    "cd20plt = ax[0,2].scatter(x=middle[:,0], y=middle[:,1], \n",
    "                marker='.', c=cd20_col, cmap='gnuplot')\n",
    "cd4cbar = plt.colorbar(cd4plt, ax=ax[0,0])\n",
    "cd8cbar = plt.colorbar(cd8plt, ax=ax[0,1])\n",
    "cd20cbar = plt.colorbar(cd20plt, ax=ax[0,2])\n",
    "\n",
    "tsnecd4plt = ax[1,0].scatter(tsne[:,0], tsne[:,1], c=bonemarrow[:,cd4_ind], marker='.', cmap='gnuplot')\n",
    "tsnecd8plt = ax[1,1].scatter(tsne[:,0], tsne[:,1], c=bonemarrow[:,cd8_ind], marker='.', cmap='gnuplot')\n",
    "tsnecd20plt = ax[1,2].scatter(tsne[:,0], tsne[:,1], c=bonemarrow[:,cd20_ind], marker='.', cmap='gnuplot')\n",
    "tsnecd4cbar = plt.colorbar(cd4plt, ax=ax[1,0])\n",
    "tsnecd8cbar = plt.colorbar(cd8plt, ax=ax[1,1])\n",
    "tsnecd20cbar = plt.colorbar(cd20plt, ax=ax[1,2])\n",
    "\n",
    "ax[0,0].set_title('CD4')\n",
    "ax[0,1].set_title('CD8')\n",
    "ax[0,2].set_title('CD20')\n",
    "plt.tight_layout()"
   ]
  },
  {
   "cell_type": "markdown",
   "metadata": {},
   "source": [
    "In the plot above the top row shows the middle layer embedding from our autoencoder and the bottom row shows our previous tSNE plots, both colored by the channel noted above each column. Although our embedding does not clearly delineate the three cell types there are more obvious patterns and larger spread in the autoencoder embedding than tSNE. For both all three channels there is an arm with relatively high expression levels that may indicate differentiated cells. The cells that have relatively low expression may not be differntiated yet or may be at an earlier stage in the process, such as those in the right-extending arm in the CD4 autoencoder panel.\n",
    "\n",
    "References\n",
    "\n",
    "1. Andreatta, M. and Nielsen, M., 2015. Gapped sequence alignment using artificial neural networks: application to the MHC class I system. Bioinformatics, 32(4), pp.511-517.\n",
    "\n",
    "2. Bendall, S. C., Simonds, E. F., Qiu, P., Amir, E.-A. D., Krutzik, P. O., Finck, R., et al. (2011). Single-cell mass cytometry of differential immune and drug responses across a human hematopoietic continuum. Science, 332(6030), 687–696.\n",
    "\n",
    "3. Shen, Y. and Bax, A., 2013. Protein backbone and sidechain torsion angles predicted from NMR chemical shifts using artificial neural networks. Journal of biomolecular NMR, 56(3), pp.227-241.\n",
    "\n",
    "In addition to the references above, naming and style conventions, TensorFlow help, and troubleshooting was greatly aided by Krishnan Srinivasan, Michael Nielson's site (http://neuralnetworksanddeeplearning.com), and the TensorFlow tutorials (http://tensorflow.org)."
   ]
  }
 ],
 "metadata": {
  "kernelspec": {
   "display_name": "Python 2",
   "language": "python",
   "name": "python2"
  },
  "language_info": {
   "codemirror_mode": {
    "name": "ipython",
    "version": 2
   },
   "file_extension": ".py",
   "mimetype": "text/x-python",
   "name": "python",
   "nbconvert_exporter": "python",
   "pygments_lexer": "ipython2",
   "version": "2.7.13"
  },
  "widgets": {
   "application/vnd.jupyter.widget-state+json": {
    "state": {
     "02ff769ef1b34a6f8402cdcde2aa66cd": {
      "model_module": "jupyter-js-widgets",
      "model_module_version": "~2.1.4",
      "model_name": "ProgressModel",
      "state": {
       "_model_module_version": "~2.1.4",
       "_view_module_version": "~2.1.4",
       "layout": "IPY_MODEL_9a2a10a7ad6842bbbe1d4783fe30a745",
       "max": 10000,
       "style": "IPY_MODEL_dfb1bab70e524b4c8839d17ba2914bc0",
       "value": 775
      }
     },
     "127863b4d41a461194b90327ffedb15d": {
      "model_module": "jupyter-js-widgets",
      "model_module_version": "~2.1.4",
      "model_name": "HTMLModel",
      "state": {
       "_model_module_version": "~2.1.4",
       "_view_module_version": "~2.1.4",
       "layout": "IPY_MODEL_6689be17fcd14eaab76aa377867f1ff1",
       "value": "  8% 775/10000 [00:03&lt;00:34, 263.67it/s]"
      }
     },
     "2494bb328fbd41008800e7b83a64690c": {
      "model_module": "jupyter-js-widgets",
      "model_module_version": "~2.1.4",
      "model_name": "LayoutModel",
      "state": {
       "_model_module_version": "~2.1.4",
       "_view_module_version": "~2.1.4"
      }
     },
     "56ec2530c34049ec8ae91c20bf78ddfd": {
      "model_module": "jupyter-js-widgets",
      "model_module_version": "~2.1.4",
      "model_name": "HTMLModel",
      "state": {
       "_model_module_version": "~2.1.4",
       "_view_module_version": "~2.1.4",
       "layout": "IPY_MODEL_2494bb328fbd41008800e7b83a64690c",
       "value": " 99% 4961/5000 [00:08&lt;00:00, 493.14it/s]"
      }
     },
     "5bd875d3e3004027927b7d02fca18184": {
      "model_module": "jupyter-js-widgets",
      "model_module_version": "~2.1.4",
      "model_name": "LayoutModel",
      "state": {
       "_model_module_version": "~2.1.4",
       "_view_module_version": "~2.1.4"
      }
     },
     "6689be17fcd14eaab76aa377867f1ff1": {
      "model_module": "jupyter-js-widgets",
      "model_module_version": "~2.1.4",
      "model_name": "LayoutModel",
      "state": {
       "_model_module_version": "~2.1.4",
       "_view_module_version": "~2.1.4"
      }
     },
     "9a2a10a7ad6842bbbe1d4783fe30a745": {
      "model_module": "jupyter-js-widgets",
      "model_module_version": "~2.1.4",
      "model_name": "LayoutModel",
      "state": {
       "_model_module_version": "~2.1.4",
       "_view_module_version": "~2.1.4"
      }
     },
     "adff363b077e46788721c0be494e9c48": {
      "model_module": "jupyter-js-widgets",
      "model_module_version": "~2.1.4",
      "model_name": "LayoutModel",
      "state": {
       "_model_module_version": "~2.1.4",
       "_view_module_version": "~2.1.4"
      }
     },
     "cb098ed65f704dd3a93f99af5e75933d": {
      "model_module": "jupyter-js-widgets",
      "model_module_version": "~2.1.4",
      "model_name": "LayoutModel",
      "state": {
       "_model_module_version": "~2.1.4",
       "_view_module_version": "~2.1.4"
      }
     },
     "dfb1bab70e524b4c8839d17ba2914bc0": {
      "model_module": "jupyter-js-widgets",
      "model_module_version": "~2.1.4",
      "model_name": "ProgressStyleModel",
      "state": {
       "_model_module_version": "~2.1.4",
       "_view_module_version": "~2.1.4"
      }
     },
     "ee767d941c2b434b95632cc231a77340": {
      "model_module": "jupyter-js-widgets",
      "model_module_version": "~2.1.4",
      "model_name": "ProgressModel",
      "state": {
       "_model_module_version": "~2.1.4",
       "_view_module_version": "~2.1.4",
       "layout": "IPY_MODEL_5bd875d3e3004027927b7d02fca18184",
       "max": 5000,
       "style": "IPY_MODEL_fa5a4c0fa59f4debac7c66fef2897cd8",
       "value": 4961
      }
     },
     "ef3049dc0f4b41c8b15506549fb9d79a": {
      "model_module": "jupyter-js-widgets",
      "model_module_version": "~2.1.4",
      "model_name": "HBoxModel",
      "state": {
       "_model_module_version": "~2.1.4",
       "_view_module_version": "~2.1.4",
       "children": [
        "IPY_MODEL_02ff769ef1b34a6f8402cdcde2aa66cd",
        "IPY_MODEL_127863b4d41a461194b90327ffedb15d"
       ],
       "layout": "IPY_MODEL_adff363b077e46788721c0be494e9c48"
      }
     },
     "fa5a4c0fa59f4debac7c66fef2897cd8": {
      "model_module": "jupyter-js-widgets",
      "model_module_version": "~2.1.4",
      "model_name": "ProgressStyleModel",
      "state": {
       "_model_module_version": "~2.1.4",
       "_view_module_version": "~2.1.4"
      }
     }
    },
    "version_major": 1,
    "version_minor": 0
   }
  }
 },
 "nbformat": 4,
 "nbformat_minor": 2
}
